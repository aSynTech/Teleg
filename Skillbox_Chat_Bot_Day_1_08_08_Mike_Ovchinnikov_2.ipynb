{
  "nbformat": 4,
  "nbformat_minor": 0,
  "metadata": {
    "colab": {
      "name": "Skillbox Chat Bot Day 1: 08/08 - Mike Ovchinnikov",
      "provenance": [],
      "collapsed_sections": [],
      "include_colab_link": true
    },
    "kernelspec": {
      "name": "python3",
      "display_name": "Python 3"
    },
    "language_info": {
      "name": "python"
    }
  },
  "cells": [
    {
      "cell_type": "markdown",
      "metadata": {
        "id": "view-in-github",
        "colab_type": "text"
      },
      "source": [
        "<a href=\"https://colab.research.google.com/github/aSynTech/Teleg/blob/master/Skillbox_Chat_Bot_Day_1_08_08_Mike_Ovchinnikov_2.ipynb\" target=\"_parent\"><img src=\"https://colab.research.google.com/assets/colab-badge.svg\" alt=\"Open In Colab\"/></a>"
      ]
    },
    {
      "cell_type": "markdown",
      "source": [
        "# День 1\n",
        "*   Язык Python\n",
        "*   Архитектура чат ботов"
      ],
      "metadata": {
        "id": "ppsIrKbyJDTJ"
      }
    },
    {
      "cell_type": "markdown",
      "source": [
        "# ВЕРСИЯ 1\n",
        "#### Наш первый Чат-бот, поздоровайтесь\n",
        "`{Вопрос на входе}` => `{Алгоритм ответа}` => `{Ответ на выходе}`\n",
        "\n",
        "---\n",
        "Простейший алгоритм — это поиск по базе известных вопросов и ответов.\n"
      ],
      "metadata": {
        "id": "mW1tlQcAJRmA"
      }
    },
    {
      "cell_type": "code",
      "source": [
        "import random"
      ],
      "metadata": {
        "id": "jHwSOC-8InIo"
      },
      "execution_count": null,
      "outputs": []
    },
    {
      "cell_type": "code",
      "execution_count": null,
      "metadata": {
        "colab": {
          "base_uri": "https://localhost:8080/"
        },
        "id": "ePQvZ6EHH75B",
        "outputId": "313221dd-1f10-492f-a66b-989b759e8e3c"
      },
      "outputs": [
        {
          "output_type": "stream",
          "name": "stdout",
          "text": [
            "Привет\n",
            "Йоу\n"
          ]
        }
      ],
      "source": [
        "text = input()\n",
        "if text in [\"Привет\", \"Здарова\", \"Хеллоу\"]:\n",
        "  print(random.choice([\"Здрасте\", \"Йоу\", \"Приветики\"]))\n",
        "elif text in [\"Пока\", \"Увидимся\", \"Чао\"]:\n",
        "  print(random.choice([\"Буду ждать нашей встречи\", \"Ок\", \"Бай-бай\"]))\n",
        "else:\n",
        "  print(\"Не понял\")\n",
        "\n",
        "\n",
        "# input = ввод данных от пользователя\n",
        "# random.choice = выбор случайного элемента из списка\n",
        "# print = вывод на экран"
      ]
    },
    {
      "cell_type": "markdown",
      "source": [
        "# Алгоритм ответа\n",
        "1.   Если вопрос это что-то типа \"*Привет*\" или \"*Здарова*\" ну или там \"*Хеллоу*\"\n",
        "2.   То ответить случайной фразой вроде \"**Йоу**\", \"**Приветики**\" или \"**Здрасте**\""
      ],
      "metadata": {
        "id": "tysEo2EaLV9V"
      }
    },
    {
      "cell_type": "markdown",
      "source": [
        "# Определение \"намерения\" пользователя (англ. intent, интент)"
      ],
      "metadata": {
        "id": "Ue7KMxxnCRty"
      }
    },
    {
      "cell_type": "code",
      "source": [
        "# Составим карты \"намерений\", которые поддерживает наш бот\n",
        "INTENTS = {\n",
        "    \"hello\": {\n",
        "        \"examples\": [\"Привет\", \"Здарова\", \"Хеллоу\"],  # То, что пишет пользователь\n",
        "        \"responses\": [\"Здрасте\", \"Йоу\", \"Приветики\"], # То, что отвечает бот \n",
        "    },\n",
        "    \"how_do_yo_do\": {\n",
        "        \"examples\": [\"Как дела\", \"Чем занят\", \"Чо по чем\"],\n",
        "        \"responses\": [\"Функционирую в пределах заданных параметров\", \"Все ок\", \"Отвечаю на тупые вопросы\"],\n",
        "    },\n",
        "    \"your_name\": {\n",
        "        \"examples\": [\"Как твое имя\", \"Как тебя зовут\", \"Ты хто\"],\n",
        "        \"responses\": [\"Мое Имя СкиллЧатБот5000\", \"Хайзенберг\"],\n",
        "    },\n",
        "    \"profession\": {\n",
        "        \"examples\": [\"Превысокомногорассмотрительствующий оториноларинголог\"],\n",
        "        \"responses\": [\"WTF?!\"],\n",
        "    }\n",
        "    # ...\n",
        "}"
      ],
      "metadata": {
        "id": "m1Y2iyVSCFLx"
      },
      "execution_count": null,
      "outputs": []
    },
    {
      "cell_type": "code",
      "source": [
        "text = input()\n",
        "# Для каждого намерения в списке намерений\n",
        "for intent in INTENTS:\n",
        "    examples = INTENTS[intent][\"examples\"]  # Получить список фраз\n",
        "    responses = INTENTS[intent][\"responses\"]  # Получить список ответов\n",
        "    # Каждый пример из examples сравниваем с текстом\n",
        "    for example in examples:\n",
        "        if text_match(text, example):\n",
        "            print(random.choice(responses))\n",
        "    # if text in examples:\n",
        "    #     print(random.choice(responses))"
      ],
      "metadata": {
        "id": "p_iXu8cqUi87"
      },
      "execution_count": null,
      "outputs": []
    },
    {
      "cell_type": "markdown",
      "source": [
        "Сложность — в том чтобы сравнить **Текст Пользователя** и текст в программе."
      ],
      "metadata": {
        "id": "26m8fK1GN4m3"
      }
    },
    {
      "cell_type": "code",
      "source": [
        "import re # Подключаем библиотеку для работы с регулярными выражениями\n",
        "import nltk \n",
        "def filter_text(text):\n",
        "    # Пробелы (\" Привет\", \"Привет     \")    \n",
        "    text = text.strip()\n",
        "    # Знаки препинания (\"Привет!!!!\")\n",
        "    expression = r'[^\\w\\s]'  # Регулярное выражение = \"Все что не слово(\\w) и не пробел(\\s)\"\n",
        "    text = re.sub(expression, \"\", text)  # sub (substitute = заменить) \"Все что не слово(\\w) и не пробел(\\s)\" на пустоту \"\" в text\n",
        "    return text\n",
        "\n",
        "\n",
        "# Не забывайте выполнять ячейку заново после изменений (Shift+Enter)\n",
        "def text_match(user_text, example):\n",
        "    user_text = user_text.lower() # Приводим текст к нижнему регистру\n",
        "    example = example.lower()\n",
        "\n",
        "    user_text = filter_text(user_text) # Фильтруем пользовательский ввод\n",
        "\n",
        "    if user_text.find(example) != -1:\n",
        "        # Фраза example НАЙДЕНА в user_text\n",
        "        return True\n",
        "\n",
        "    text_len = len(user_text)  # Узнаем длину текста\n",
        "    difference = nltk.edit_distance(user_text, example) / text_len  #  0 .. 1\n",
        "\n",
        "    return difference < 0.4"
      ],
      "metadata": {
        "id": "v68CYBmmMwwu"
      },
      "execution_count": null,
      "outputs": []
    },
    {
      "cell_type": "code",
      "source": [
        "# Тексты совпадают\n",
        "text_match(\"Привет\", \"Привет\")  "
      ],
      "metadata": {
        "colab": {
          "base_uri": "https://localhost:8080/"
        },
        "id": "Y_v5venhNDey",
        "outputId": "429f0ecf-fcf1-459e-c21f-427d3fc04bf8"
      },
      "execution_count": null,
      "outputs": [
        {
          "output_type": "execute_result",
          "data": {
            "text/plain": [
              "True"
            ]
          },
          "metadata": {},
          "execution_count": 10
        }
      ]
    },
    {
      "cell_type": "code",
      "source": [
        "# Разный регистр (ToDo: lower)\n",
        "text_match(\"привет\", \"Привет\")"
      ],
      "metadata": {
        "colab": {
          "base_uri": "https://localhost:8080/"
        },
        "id": "mCkXZGN7NCxm",
        "outputId": "bab1dd4e-1b33-401f-f5ae-81055aaa244b"
      },
      "execution_count": null,
      "outputs": [
        {
          "output_type": "execute_result",
          "data": {
            "text/plain": [
              "True"
            ]
          },
          "metadata": {},
          "execution_count": 11
        }
      ]
    },
    {
      "cell_type": "code",
      "source": [
        "# Лишние символы (ToDo: regular expressions)\n",
        "text_match(\"Привет!!!=)\", \"Привет\")  "
      ],
      "metadata": {
        "colab": {
          "base_uri": "https://localhost:8080/"
        },
        "id": "XyYl1qxJOWfE",
        "outputId": "ceab4e36-e77a-403f-bd80-a9f7232486f4"
      },
      "execution_count": null,
      "outputs": [
        {
          "output_type": "execute_result",
          "data": {
            "text/plain": [
              "True"
            ]
          },
          "metadata": {},
          "execution_count": 12
        }
      ]
    },
    {
      "cell_type": "code",
      "source": [
        "# Лишние слова (ToDo: find)\n",
        "text_match(\"Привет, как дела\", \"Привет\")  "
      ],
      "metadata": {
        "colab": {
          "base_uri": "https://localhost:8080/"
        },
        "id": "ElasFTAKOW8g",
        "outputId": "3f4b0748-0028-4bec-b513-4d6e5e31243c"
      },
      "execution_count": null,
      "outputs": [
        {
          "output_type": "execute_result",
          "data": {
            "text/plain": [
              "True"
            ]
          },
          "metadata": {},
          "execution_count": 13
        }
      ]
    },
    {
      "cell_type": "code",
      "source": [
        "# Опечатки (ToDo: levenstein)\n",
        "text_match(\"Превед\", \"Привет\")"
      ],
      "metadata": {
        "colab": {
          "base_uri": "https://localhost:8080/"
        },
        "id": "d9gU6QhvOY17",
        "outputId": "d1f25901-2aa1-4926-fc4f-93aa71404307"
      },
      "execution_count": null,
      "outputs": [
        {
          "output_type": "execute_result",
          "data": {
            "text/plain": [
              "True"
            ]
          },
          "metadata": {},
          "execution_count": 14
        }
      ]
    },
    {
      "cell_type": "markdown",
      "source": [
        "# День 2\n"
      ],
      "metadata": {
        "id": "hSSID1qhTRst"
      }
    },
    {
      "cell_type": "markdown",
      "source": [
        "# Классификация текстов ML-моделью\n",
        "\n",
        "Файл с данными: https://drive.google.com/file/d/1_L5CYGsO58zkB3LMBG73ezIEwYFD07Ed/view"
      ],
      "metadata": {
        "id": "pqqsdYVxRC4w"
      }
    },
    {
      "cell_type": "code",
      "source": [
        "# Прочитать файл\n",
        "# Подготовить данные в нем для классификации (???)\n",
        "# Выбрать и настроить модель МО\n",
        "# Обучаем, и проверить качество получившейся модели\n",
        "\n",
        "# Зачем? Чтобы понять что от нас хочет человек"
      ],
      "metadata": {
        "id": "IekZ2-zqRHKH"
      },
      "execution_count": null,
      "outputs": []
    },
    {
      "cell_type": "code",
      "source": [
        "import json\n",
        "\n",
        "with open(\"/content/big_bot_config.json\", \"r\") as config_file:  # Открыть файл для чтения\n",
        "    DATA = json.load(config_file)  # Загрузить данные из файла\n",
        "\n",
        "INTENTS = DATA[\"intents\"]"
      ],
      "metadata": {
        "id": "EffSvOjcX0vu"
      },
      "execution_count": null,
      "outputs": []
    },
    {
      "cell_type": "code",
      "source": [
        "INTENTS.keys()"
      ],
      "metadata": {
        "id": "J-DO0GXXY50J",
        "outputId": "16a83406-72a7-4602-921f-eb2a78e467c5",
        "colab": {
          "base_uri": "https://localhost:8080/"
        }
      },
      "execution_count": null,
      "outputs": [
        {
          "output_type": "execute_result",
          "data": {
            "text/plain": [
              "dict_keys(['hello', 'bye', 'how_are_you56234', 'how_your_day89347', 'how_are_you_feeling74447', 'do_you_want_play8679435', 'code_phrase978457', 'names', 'mood', 'books', 'films', 'humor', 'ask price', 'operator request', 'name request', 'options request', 'problem', 'hobby', 'singer', 'attractions', 'stories', 'napoleon', 'snoop_dog', 'hot_dog', 'putin', 'santa_barbara', 'bot_name', 'what_cen_you_do', 'thanks', 'help_me', 'not_that', 'how_are_you', 'feedback_good', 'feedback_bad', 'actions', 'hobbies', 'exits', 'abilities', 'jokes', 'comity', 'indetermine', 'news', 'games', 'discount', 'сlosing_account', 'weather', 'pet', 'film', 'name_questions', 'can_questions', 'todo_questions', 'whos_questions', 'bad_questions', 'mood_questions', 'lang_questions', 'whatsup', 'music', 'gifts', 'cities', 'constellation', 'chess', 'byflood', 'electronics', 'skills', 'reactions_to_bad_feelings', 'reactions_to_good_feelings', 'gender', 'what_are_you_doing', 'hellozdr', 'howtonlkt', 'pythonbooks', 'howareyou', 'pythoneditor', 'whatispython', 'banderlogi', 'whatisintent', 'whatislev', 'whоislev', 'game', 'food', 'work', 'feel_bad', 'some_question', 'digit_guess', 'fables', 'not_working', 'cold', 'Iminterestin', 'Whatcan', 'callhuman', 'joke', 'howru', 'currency', 'motivation', 'emotion', 'sleep', 'i_love_you', 'morning', 'danger', 'what_to_do', 'destination', 'compliment', 'bot_mood', 'about_you', 'the_weather', 'mood1', 'what gender are you', 'what is your name', 'choice', 'bye_obscene', 'obscene', 'call_to_support', 'locations', 'no', 'yes', 'Boring', 'Pointless', 'Joke', 'Warhammer', 'Skyrim', 'whatareyoudoing', 'whatareyouloving', 'skils', 'plans', 'living', 'help', 'time', 'sorry', 'OK', 'NOT_OK', 'change', 'save', 'feedback', 'boss', 'region', 'partner', 'failure_phrases', 'gratitude', 'weather1', 'weather2', 'how', 'areyouabot', 'whatdoyouliketodo', 'whoareyou', 'bread_price', 'boiled_eggs', 'today_dinner', 'make_coffee', 'best_friend', 'health', 'happy', 'errors', 'where', 'what', 'about', 'name', 'experience', 'main_question', 'who_are_you', 'shoping', 'voyage', 'question', 'possibility', 'thoughtfulFace', 'traffic', 'HRU?v1', 'HRU?v2', 'HIYH?', 'DEPRESSIVEv1', 'POSITIVEv1', 'PYTHON', 'order', 'waiting time', 'cook', 'action', 'location', 'mission', '300', 'tell', 'command', 'question_name', 'question_how_are_you', 'question_can', 'appeal', 'business', 'about you', 'desires', 'drink_to', 'feeling', 'who', 'todo', 'identity', 'job', 'human_contact', 'subscribe', 'acquaintance', 'thank', 'what are you doing', 'time_now', 'date_now', 'weekday_now', 'weather_now_Moscow', 'user_current_location', 'forest', 'Hotel', 'Space', 'Animals', 'Job', 'howdy', 'turing', 'meaning', 'how_are_you__doing', 'chatter', 'state', 'how are you', 'about programming', 'sport', 'sense', 'money', 'soccer', 'invites', 'python', 'crooks', 'virshes', 'age', 'usd', 'corona', 'love', 'affront', 'game_of_thrones', 'football', 'politic', 'deal', 'people', 'employer', 'helper', 'why', 'friend', 'offer-friend', 'nuts', 'color', 'pasta or rise', 'posibility', 'glhf', 'alcohole', 'how are you doing', 'songs', 'howAreYou', 'whoAreYou', 'somethingInteresting', 'talkThemes', 'themeSpace', 'BadWeather', 'GoodWeather', 'BotName', 'FrendshpReq', 'city_Rus', 'sedation', 'congratulation', 'cheer_up', 'entertainment', 'movie', 'alcohol', 'Whatsup', 'Weather', 'Chance', 'Timekill', 'Poslovica', 'podkat', 'shutki', 'doing', 'NewYear', 'gday', 'bday', 'yp', 'np', 'wp', 'hvtime', 'HowAreYou', 'do', 'Name', 'Health', 'Music', 'whatDoYouLike', 'whatDoYouCan', 'city', 'propadaesh', 'support_level_1', 'support_level_2', 'order_cancel', 'toys', 'exams_and_quizes', 'How are you', 'Small talk 1', 'Small talk 2', 'About sport', 'first_asking', 'second_asking', 'third_asking', 'fourth_asking', 'sixth_asking', 'sad', 'kak', 'new', 'igra', 'howdoyoudo', 'merrychristmas', 'dreams', 'voute2020', 'whattosee', 'howtostartlearningprogramming', 'whereyouwanttogo', 'singers', 'favouritefood', 'wheather', 'troll', 'wow', 'stop', 'idontknow', 'whereyou', 'killus', 'joke_WDT', 'terms', 'positiv', 'negativ', 'virus_todo', 'breakfast', 'serials', 'roadmap', 'youregood', 'yourebad', 'crying', 'whatdoing', 'years', 'phone', 'have_a_chat', 'bad_words', 'play', 'wellcome', 'day', 'night', 'language', 'programming', 'how do you doing', 'how is your family', 'whats new', 'give me your money', 'swear words', 'buy', 'wheretogo', 'whattowatch', 'whattolisten', 'whatyoulike', 'watchyoutube', 'aboutcovid', 'aboutproglanguages', 'menuhappynewyear', 'teaorcoffee', 'events', 'whereareyou', 'whatsnew', 'howsyourhealth', 'endofconversation', 'yourname', 'whatcanyodo', 'whatdoyoudo', 'howyouday', 'until', 'say', 'question1', 'question2', 'question3', 'question4', 'question5', 'wish', 'newyear', 'botcool', 'botsituation', 'questions', 'by', 'knoliges', 'selebrate', 'aboutchatbot', 'wakeup', 'singasong', 'goodnight', 'zadira', 'creator', 'agreement', 'link', 'likeforyou', 'nastroenie', 'ludi', 'gdeti', 'transp', 'Howareu', 'Whatsuname', 'favoritedish', 'Favoritegames', 'Book', 'Whatareyoudoing', 'verse', 'book', 'rock-paper-scissors', 'finace', 'cinema', 'Howareyou', 'Praise', 'Thanks', 'Knowledge', 'Pinkybrain', 'whatareyoudoin', 'needhelp', 'physicsformulas', 'chemthings', 'mathstuff', 'song', 'song1', 'song2', 'song3', 'song4', 'song5', 'human_need', 'heckler', 'talks_dogs', 'definition_of_bot', 'lol', 'anek', 'spherkon', 'shrek', 'poslovica', 'azimov', 'coin', 'dice', 'recipe', 'wishes', 'happynewyear', 'whatcanyoudo', 'whenisyourbirthday'])"
            ]
          },
          "metadata": {},
          "execution_count": 22
        }
      ]
    },
    {
      "cell_type": "markdown",
      "source": [
        "# День 3\n",
        "Бот в Телеграм"
      ],
      "metadata": {
        "id": "MMr2mDwFTVeK"
      }
    },
    {
      "cell_type": "code",
      "source": [
        ""
      ],
      "metadata": {
        "id": "9hPPDSAdTYco"
      },
      "execution_count": null,
      "outputs": []
    }
  ]
}